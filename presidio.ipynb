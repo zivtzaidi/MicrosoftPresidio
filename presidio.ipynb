{
 "cells": [
  {
   "cell_type": "markdown",
   "id": "41047a46-b390-4720-a560-0c5701e49dbd",
   "metadata": {},
   "source": [
    "# De-identifying Data with Microsoft Presidio"
   ]
  },
  {
   "cell_type": "markdown",
   "id": "0ae427d8-165c-4c0e-9f78-287eb3cbad3d",
   "metadata": {},
   "source": [
    "To begin working with Microsoft Presidio, we conducted research using online resources to understand its functionality and solutions. Presidio is designed to identify private information within a dataset and replace it with anonymized values, ensuring data privacy.\n",
    "For this exercise, we created sample text containing various types of Personally Identifiable Information (PII) and employed the `analyze` method of `AnalyzerEngine` to identify these PII entities, specifying the desired types.\n",
    "Presidio's capabilities include identifying various formats for each type of PII and providing the chart where these fields start and end within the text. We defined the PII fields for replacement and specified the anonymized values. In our case, each detected PII entity was replaced with the placeholder `<ANONYMIZED>`.\n",
    "We also examined Presidio's ability to handle different formats for each field, ensuring accurate identification and anonymization. For example, Presidio effectively anonymized dates in formats like \"dd/mm/yyyy\" or \"July 15, 2024, at 2:30 PM.\" However, since the date represented the time of the conversation and was not private information, we retained the original value.\n",
    "\n",
    "The final output consists of the original text and the anonymized text, with all detected PII elements replaced with `<ANONYMIZED>`. This demonstrates Presidio's capability to detect and anonymize a wide range of PII entities in a customizable manner, ensuring the safeguarding of sensitive information, ensuring sensitive information is safeguarded."
   ]
  },
  {
   "cell_type": "markdown",
   "id": "3df16db9-0e99-4456-9500-ceed559c9a02",
   "metadata": {},
   "source": [
    "## Python code customized with Presidio"
   ]
  },
  {
   "cell_type": "code",
   "execution_count": 3,
   "id": "5dba4109-22b1-4c35-9c07-9bf8e5543699",
   "metadata": {},
   "outputs": [],
   "source": [
    "from presidio_analyzer import AnalyzerEngine\n",
    "from presidio_anonymizer import AnonymizerEngine\n",
    "from presidio_anonymizer.entities import OperatorConfig"
   ]
  },
  {
   "cell_type": "markdown",
   "id": "2ca9f80a-5b4e-4231-b177-2cbeee487ff9",
   "metadata": {
    "scrolled": true
   },
   "source": [
    "Define Analyzer & Anonymizer"
   ]
  },
  {
   "cell_type": "code",
   "execution_count": 4,
   "id": "5b91e061-28db-4c33-b7e8-bab9f19e53a4",
   "metadata": {},
   "outputs": [],
   "source": [
    "analyzer = AnalyzerEngine()\n",
    "anonymize = AnonymizerEngine()"
   ]
  },
  {
   "cell_type": "markdown",
   "id": "47da39e7-217c-4659-ad5f-1de6603e5526",
   "metadata": {},
   "source": [
    "A dataset structured according to entities supported by the library, as documented- https://microsoft.github.io/presidio/supported_entities/"
   ]
  },
  {
   "cell_type": "code",
   "execution_count": null,
   "id": "1fb5fa73-8b17-4399-af95-08848056549f",
   "metadata": {},
   "outputs": [],
   "source": [
    "text = \"In addressing the legalities of data protection, John shared his personal information to illustrate the importance of privacy laws. He mentioned, 'My phone number, 123-456-7890, and my email, john.doe@example.com, are sensitive pieces of information that need safeguarding.' Furthermore, he emphasized, 'Even my bank account number, GB82WEST12345698765432, is at risk if not properly protected.' Call details: Tel Aviv, 0.0.0.0, July 15, 2024, at 2:30 PM\""
   ]
  },
  {
   "cell_type": "markdown",
   "id": "c75f3403-1e21-41f4-bae9-744a1e5a605a",
   "metadata": {},
   "source": [
    "PII analysis and configuration to replace identified PII with \"ANONYMIZED\""
   ]
  },
  {
   "cell_type": "code",
   "execution_count": 13,
   "id": "bb65c439-5744-4f94-ad46-6cf755de2c55",
   "metadata": {},
   "outputs": [],
   "source": [
    "results = analyzer.analyze(text=text, entities=[\"PERSON\", \"PHONE_NUMBER\", \"EMAIL_ADDRESS\", \"IBAN_CODE\", \"LOCATION\", \"IP_ADDRESS\"], language=\"en\")\n",
    "\n",
    "anonymizers_config = {\n",
    "    \"PERSON\": OperatorConfig(operator_name=\"replace\", params={\"new_value\": \"<ANONYMIZED>\"}),\n",
    "    \"PHONE_NUMBER\": OperatorConfig(operator_name=\"replace\", params={\"new_value\": \"<ANONYMIZED>\"}),\n",
    "    \"EMAIL_ADDRESS\": OperatorConfig(operator_name=\"replace\", params={\"new_value\": \"<ANONYMIZED>\"}),\n",
    "    \"IBAN_CODE\": OperatorConfig(operator_name=\"replace\", params={\"new_value\": \"<ANONYMIZED>\"}),\n",
    "    \"LOCATION\": OperatorConfig(operator_name=\"replace\", params={\"new_value\": \"<ANONYMIZED>\"}),\n",
    "    \"IP_ADDRESS\": OperatorConfig(operator_name=\"replace\", params={\"new_value\": \"<ANONYMIZED>\"}),\n",
    "}\n",
    "\n",
    "anonymized_text = anonymize.anonymize(\n",
    "    text= text,\n",
    "    analyzer_results = results,\n",
    "    operators = anonymizers_config\n",
    ")\n"
   ]
  },
  {
   "cell_type": "markdown",
   "id": "152c816b-a04c-4277-bfee-d0a1d6f438b5",
   "metadata": {},
   "source": [
    "Print the original and the anonymized"
   ]
  },
  {
   "cell_type": "code",
   "execution_count": 14,
   "id": "62041145-f5d9-4c04-b704-8edb4c20f84c",
   "metadata": {},
   "outputs": [
    {
     "name": "stdout",
     "output_type": "stream",
     "text": [
      "Original text:\n",
      "In addressing the legalities of data protection, John shared his personal information to illustrate the importance of privacy laws. He mentioned, 'My phone number, 123-456-7890, and my email, john.doe@example.com, are sensitive pieces of information that need safeguarding.' Furthermore, he emphasized, 'Even my bank account number, GB82WEST12345698765432, is at risk if not properly protected.' Call details: Tel Aviv, 0.0.0.0, July 15, 2024, at 2:30 PM\n",
      "\n",
      "Anonymized text:\n",
      "In addressing the legalities of data protection, <ANONYMIZED> shared his personal information to illustrate the importance of privacy laws. He mentioned, 'My phone number, <ANONYMIZED>, and my email, <ANONYMIZED>, are sensitive pieces of information that need safeguarding.' Furthermore, he emphasized, 'Even my bank account number, <ANONYMIZED>, is at risk if not properly protected.' Call details: <ANONYMIZED>, <ANONYMIZED>, July 15, 2024, at 2:30 PM\n"
     ]
    }
   ],
   "source": [
    "print(\"Original text:\")\n",
    "print(text)\n",
    "print(\"\\nAnonymized text:\")\n",
    "print(anonymized_text.text)\n"
   ]
  },
  {
   "cell_type": "code",
   "execution_count": null,
   "id": "9db560da-5cdd-4d7d-a1fd-862aab3f6bcb",
   "metadata": {},
   "outputs": [],
   "source": []
  }
 ],
 "metadata": {
  "kernelspec": {
   "display_name": "Python 3 (ipykernel)",
   "language": "python",
   "name": "python3"
  },
  "language_info": {
   "codemirror_mode": {
    "name": "ipython",
    "version": 3
   },
   "file_extension": ".py",
   "mimetype": "text/x-python",
   "name": "python",
   "nbconvert_exporter": "python",
   "pygments_lexer": "ipython3",
   "version": "3.11.9"
  }
 },
 "nbformat": 4,
 "nbformat_minor": 5
}
